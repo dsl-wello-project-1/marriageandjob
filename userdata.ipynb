{
 "cells": [
  {
   "cell_type": "code",
   "execution_count": 14,
   "id": "25613c77",
   "metadata": {},
   "outputs": [],
   "source": [
    "import pandas as pd\n",
    "import numpy as np"
   ]
  },
  {
   "cell_type": "code",
   "execution_count": 5,
   "id": "d11a0ee9",
   "metadata": {},
   "outputs": [],
   "source": [
    "data = pd.read_excel(\"C:/Users/user/user.xlsx\")"
   ]
  },
  {
   "cell_type": "code",
   "execution_count": 11,
   "id": "c2b9c70b",
   "metadata": {},
   "outputs": [
    {
     "data": {
      "text/plain": [
       "0            기타\n",
       "1           근로자\n",
       "2           NaN\n",
       "3           근로자\n",
       "4        대학(원)생\n",
       "          ...  \n",
       "20005        기타\n",
       "20006       NaN\n",
       "20007        기타\n",
       "20008        기타\n",
       "20009       NaN\n",
       "Name: mb_4, Length: 20010, dtype: object"
      ]
     },
     "execution_count": 11,
     "metadata": {},
     "output_type": "execute_result"
    }
   ],
   "source": [
    "data['mb_4']"
   ]
  },
  {
   "cell_type": "markdown",
   "id": "9ac45753",
   "metadata": {},
   "source": [
    "무관\t\tA04-00\n",
    "대학/대학원생\t\tA04-01\n",
    "구직자/실업자\t\tA04-02\n",
    "근로자/직장인\t\tA04-03\n",
    "예비창업자\t\tA04-04\n",
    "소상공인\t\tA04-05\n",
    "중소기업\t\tA04-06\n",
    "프리랜서\t\tA04-07\n",
    "\n",
    "\n",
    "\n",
    "무관\t\tA06-00\n",
    "미혼\t\tA06-01\n",
    "기혼\t\tA06-02\n",
    "이혼\t\tA06-03\n",
    "재혼\t\tA06-04"
   ]
  },
  {
   "cell_type": "code",
   "execution_count": null,
   "id": "f751db65",
   "metadata": {},
   "outputs": [],
   "source": [
    "data['태그-직장'] = data[data['mb_4'].str.contains('대학')]"
   ]
  },
  {
   "cell_type": "code",
   "execution_count": 12,
   "id": "ea8bfdca",
   "metadata": {},
   "outputs": [
    {
     "data": {
      "text/plain": [
       "array(['기타', '근로자', nan, '대학(원)생', '구직자', '대학(원)생,근로자', '기업인/소상공인',\n",
       "       '구직자,기업인/소상공인', '프리랜서', '구직자,근로자,기업인/소상공인', '근로자,기업인/소상공인',\n",
       "       '프리랜서,기타', '근로자,기타', '프리랜서,기업인/소상공인', '근로자,프리랜서',\n",
       "       '근로자,예비창업자,기업인/소상공인', '기업인/소상공인,기타', '예비창업자',\n",
       "       '예비창업자,프리랜서,기업인/소상공인', '근로자,예비창업자,프리랜서', '구직자,프리랜서', '대학(원)생,기타',\n",
       "       '구직자,기타', '구직자,근로자,예비창업자,프리랜서', '구직자,근로자,예비창업자,프리랜서,기타',\n",
       "       '구직자,근로자,예비창업자,기업인/소상공인', '구직자,근로자,예비창업자', '구직자,근로자,기타', '구직자,근로자',\n",
       "       '구직자,근로자,예비창업자,기타', '구직자,프리랜서,기타', '구직자,예비창업자,기업인/소상공인',\n",
       "       '구직자,예비창업자', '대학(원)생,근로자,예비창업자,프리랜서,기업인/소상공인,기타',\n",
       "       '대학(원)생,기업인/소상공인', '근로자,프리랜서,기업인/소상공인', '대학(원)생,구직자',\n",
       "       '근로자,프리랜서,기타', '근로자,예비창업자', '구직자,예비창업자,프리랜서,기업인/소상공인',\n",
       "       '구직자,근로자,프리랜서', '대학(원)생,구직자,근로자,예비창업자,프리랜서,기업인/소상공인,기타',\n",
       "       '구직자,근로자,예비창업자,프리랜서,기업인/소상공인', '근로자,예비창업자,기타', '예비창업자,기업인/소상공인',\n",
       "       '예비창업자,프리랜서', '구직자,예비창업자,기타', '근로자,예비창업자,기업인/소상공인,기타',\n",
       "       '구직자,예비창업자,프리랜서,기타', '대학(원)생,구직자,예비창업자,프리랜서,기타',\n",
       "       '프리랜서,기업인/소상공인,기타', '구직자,예비창업자,프리랜서', '대학(원)생,구직자,기업인/소상공인',\n",
       "       '대학(원)생,근로자,프리랜서,기타', '대학(원)생,프리랜서', '구직자,근로자,프리랜서,기타',\n",
       "       '대학(원)생,예비창업자', '근로자,예비창업자,프리랜서,기타', '대학(원)생,구직자,근로자,예비창업자,프리랜서',\n",
       "       '구직자,근로자,프리랜서,기업인/소상공인', '예비창업자,프리랜서,기타', '대학(원)생,근로자,예비창업자',\n",
       "       '대학(원)생,구직자,근로자,예비창업자', '구직자,근로자,프리랜서,기업인/소상공인,기타',\n",
       "       '대학(원)생,구직자,예비창업자', '대학(원)생,구직자,근로자,기타', '구직자,프리랜서,기업인/소상공인',\n",
       "       '구직자,근로자,예비창업자,기업인/소상공인,기타', '대학(원)생,구직자,근로자,예비창업자,프리랜서,기업인/소상공인',\n",
       "       '대학(원)생,구직자,근로자,프리랜서', '대학(원)생,근로자,예비창업자,기업인/소상공인',\n",
       "       '대학(원)생,구직자,프리랜서,기타', '대학(원)생,프리랜서,기업인/소상공인', '대학(원)생,구직자,근로자',\n",
       "       '대학(원)생,근로자,프리랜서', '대학(원)생,구직자,근로자,예비창업자,기업인/소상공인',\n",
       "       '대학(원)생,구직자,프리랜서', '대학(원)생,구직자,근로자,프리랜서,기타',\n",
       "       '근로자,예비창업자,프리랜서,기업인/소상공인', '예비창업자,기타',\n",
       "       '대학(원)생,구직자,근로자,예비창업자,프리랜서,기타', '대학(원)생,구직자,기타',\n",
       "       '대학(원)생,예비창업자,프리랜서', '대학(원)생,근로자,기타', '대학(원)생,구직자,예비창업자,기타',\n",
       "       '대학(원)생,구직자,예비창업자,프리랜서', '대학(원)생,근로자,기업인/소상공인',\n",
       "       '예비창업자,기업인/소상공인,기타', '대학(원)생,근로자,예비창업자,프리랜서,기업인/소상공인',\n",
       "       '대학(원)생,근로자,예비창업자,프리랜서', '구직자,근로자,예비창업자,프리랜서,기업인/소상공인,기타',\n",
       "       '대학(원)생,예비창업자,프리랜서,기타', '대학(원)생,구직자,기업인/소상공인,기타',\n",
       "       '대학(원)생,예비창업자,기업인/소상공인', '구직자,기업인/소상공인,기타', '근로자,기업인/소상공인,기타',\n",
       "       '대학(원)생,예비창업자,기타', '대학(원)생,구직자,예비창업자,기업인/소상공인',\n",
       "       '대학(원)생,구직자,근로자,예비창업자,기타'], dtype=object)"
      ]
     },
     "execution_count": 12,
     "metadata": {},
     "output_type": "execute_result"
    }
   ],
   "source": [
    "data['mb_4'].unique()"
   ]
  },
  {
   "cell_type": "code",
   "execution_count": 29,
   "id": "8a8f1eef",
   "metadata": {},
   "outputs": [
    {
     "data": {
      "text/plain": [
       "0            기타\n",
       "1           근로자\n",
       "2         False\n",
       "3           근로자\n",
       "4        대학(원)생\n",
       "          ...  \n",
       "20005        기타\n",
       "20006     False\n",
       "20007        기타\n",
       "20008        기타\n",
       "20009     False\n",
       "Name: mb_4, Length: 20010, dtype: object"
      ]
     },
     "execution_count": 29,
     "metadata": {},
     "output_type": "execute_result"
    }
   ],
   "source": [
    "data[\"mb_4\"].fillna(False,inplace=True)\n",
    "data['mb_4']"
   ]
  },
  {
   "cell_type": "code",
   "execution_count": 34,
   "id": "f8fe71eb",
   "metadata": {},
   "outputs": [
    {
     "name": "stdout",
     "output_type": "stream",
     "text": [
      "         num mb_sex  mb_birth    mb_4 mb_6   태그-직장 태그-결혼여부\n",
      "0      11726      M  19000101      기타  NaN  A04-00  A06-00\n",
      "1      21745      M  19000122     근로자   미혼  A04-03  A06-01\n",
      "2      13327      M  19050101   False  NaN  A04-00  A06-00\n",
      "3      23542      M  19190101     근로자   기혼  A04-03  A06-02\n",
      "4      14442      M  19200128  대학(원)생   미혼  A04-01  A06-01\n",
      "...      ...    ...       ...     ...  ...     ...     ...\n",
      "20005  25100      F  20070927      기타   미혼  A04-00  A06-01\n",
      "20006  16309      M  20070928   False  NaN  A04-00  A06-00\n",
      "20007  24720      F  20071015      기타   미혼  A04-00  A06-01\n",
      "20008  27341      F  20071015      기타   미혼  A04-00  A06-01\n",
      "20009  22338      M  20071016   False  NaN  A04-00  A06-00\n",
      "\n",
      "[20010 rows x 7 columns]\n"
     ]
    }
   ],
   "source": [
    "conditionlist = [\n",
    "    (data['mb_4'].str.contains('대학',na=False)),\n",
    "    (data['mb_4'].str.contains('구직',na=False)),\n",
    "    (data['mb_4'].str.contains('근로',na=False)),\n",
    "    (data['mb_4'].str.contains('창업',na=False)),\n",
    "    (data['mb_4'].str.contains('소상공인',na=False)),\n",
    "    (data['mb_4'].str.contains('기업',na=False)),\n",
    "    (data['mb_4'].str.contains('프리랜서',na=False))]\n",
    "choicelist = ['A04-01','A04-02', 'A04-03','A04-04','A04-05','A04-06','A04-07']\n",
    "data['태그-직장'] = np.select(conditionlist, choicelist, default='A04-00')\n",
    "\n",
    "print(data)"
   ]
  },
  {
   "cell_type": "code",
   "execution_count": 35,
   "id": "a8636ab4",
   "metadata": {},
   "outputs": [
    {
     "name": "stdout",
     "output_type": "stream",
     "text": [
      "         num mb_sex  mb_birth    mb_4 mb_6   태그-직장 태그-결혼여부\n",
      "0      11726      M  19000101      기타  NaN  A04-00  A06-00\n",
      "1      21745      M  19000122     근로자   미혼  A04-03  A06-01\n",
      "2      13327      M  19050101   False  NaN  A04-00  A06-00\n",
      "3      23542      M  19190101     근로자   기혼  A04-03  A06-02\n",
      "4      14442      M  19200128  대학(원)생   미혼  A04-01  A06-01\n",
      "...      ...    ...       ...     ...  ...     ...     ...\n",
      "20005  25100      F  20070927      기타   미혼  A04-00  A06-01\n",
      "20006  16309      M  20070928   False  NaN  A04-00  A06-00\n",
      "20007  24720      F  20071015      기타   미혼  A04-00  A06-01\n",
      "20008  27341      F  20071015      기타   미혼  A04-00  A06-01\n",
      "20009  22338      M  20071016   False  NaN  A04-00  A06-00\n",
      "\n",
      "[20010 rows x 7 columns]\n"
     ]
    }
   ],
   "source": [
    "conditionlist = [\n",
    "    (data['mb_6'] == '미혼'),\n",
    "    (data['mb_6'] == '기혼'),\n",
    "    (data['mb_6'] == '이혼'),\n",
    "    (data['mb_6'] == '재혼')]\n",
    "choicelist = ['A06-01','A06-02', 'A06-03','A06-04']\n",
    "data['태그-결혼여부'] = np.select(conditionlist, choicelist, default='A06-00')\n",
    "\n",
    "print(data)"
   ]
  },
  {
   "cell_type": "code",
   "execution_count": 16,
   "id": "71875a8b",
   "metadata": {},
   "outputs": [
    {
     "data": {
      "text/plain": [
       "0        False\n",
       "1         True\n",
       "2        False\n",
       "3        False\n",
       "4         True\n",
       "         ...  \n",
       "20005     True\n",
       "20006    False\n",
       "20007     True\n",
       "20008     True\n",
       "20009    False\n",
       "Name: mb_6, Length: 20010, dtype: bool"
      ]
     },
     "execution_count": 16,
     "metadata": {},
     "output_type": "execute_result"
    }
   ],
   "source": [
    "data['mb_6'] == '미혼'"
   ]
  },
  {
   "cell_type": "code",
   "execution_count": 32,
   "id": "aafe35d8",
   "metadata": {},
   "outputs": [
    {
     "data": {
      "text/plain": [
       "0        False\n",
       "1        False\n",
       "2          NaN\n",
       "3        False\n",
       "4         True\n",
       "         ...  \n",
       "20005    False\n",
       "20006      NaN\n",
       "20007    False\n",
       "20008    False\n",
       "20009      NaN\n",
       "Name: mb_4, Length: 20010, dtype: object"
      ]
     },
     "execution_count": 32,
     "metadata": {},
     "output_type": "execute_result"
    }
   ],
   "source": [
    "data['mb_4'].str.contains('대학')"
   ]
  },
  {
   "cell_type": "code",
   "execution_count": 33,
   "id": "9a2abbaf",
   "metadata": {},
   "outputs": [
    {
     "data": {
      "text/plain": [
       "0            기타\n",
       "1           근로자\n",
       "2         False\n",
       "3           근로자\n",
       "4        대학(원)생\n",
       "          ...  \n",
       "20005        기타\n",
       "20006     False\n",
       "20007        기타\n",
       "20008        기타\n",
       "20009     False\n",
       "Name: mb_4, Length: 20010, dtype: object"
      ]
     },
     "execution_count": 33,
     "metadata": {},
     "output_type": "execute_result"
    }
   ],
   "source": [
    "data['mb_4']"
   ]
  },
  {
   "cell_type": "code",
   "execution_count": 39,
   "id": "4694085f",
   "metadata": {},
   "outputs": [],
   "source": [
    "data.to_csv(\"C:/Users/user/직장결혼여부.csv\")"
   ]
  }
 ],
 "metadata": {
  "kernelspec": {
   "display_name": "Python 3 (ipykernel)",
   "language": "python",
   "name": "python3"
  },
  "language_info": {
   "codemirror_mode": {
    "name": "ipython",
    "version": 3
   },
   "file_extension": ".py",
   "mimetype": "text/x-python",
   "name": "python",
   "nbconvert_exporter": "python",
   "pygments_lexer": "ipython3",
   "version": "3.9.7"
  }
 },
 "nbformat": 4,
 "nbformat_minor": 5
}
